{
 "cells": [
  {
   "cell_type": "code",
   "execution_count": 2,
   "metadata": {},
   "outputs": [],
   "source": [
    "import json\n",
    "import difflib"
   ]
  },
  {
   "cell_type": "code",
   "execution_count": 3,
   "metadata": {},
   "outputs": [],
   "source": [
    "dictionary = json.load(open('/Users/a0r00rf/Documents/SpeechToTextGoogle/data.json'))"
   ]
  },
  {
   "cell_type": "code",
   "execution_count": 12,
   "metadata": {},
   "outputs": [
    {
     "data": {
      "text/plain": [
       "['Precipitation in the form of liquid water drops with diameters greater than 0.5 millimetres.',\n",
       " 'To fall from the clouds in drops of water.']"
      ]
     },
     "execution_count": 12,
     "metadata": {},
     "output_type": "execute_result"
    }
   ],
   "source": [
    "dictionary['rain']"
   ]
  },
  {
   "cell_type": "code",
   "execution_count": 13,
   "metadata": {},
   "outputs": [
    {
     "data": {
      "text/plain": [
       "True"
      ]
     },
     "execution_count": 13,
     "metadata": {},
     "output_type": "execute_result"
    }
   ],
   "source": [
    "'rain' not in dictionary"
   ]
  },
  {
   "cell_type": "code",
   "execution_count": 4,
   "metadata": {},
   "outputs": [],
   "source": [
    "guess = difflib.get_close_matches('rain',dictionary.keys(),n=2,cutoff=0.6)"
   ]
  },
  {
   "cell_type": "code",
   "execution_count": 6,
   "metadata": {},
   "outputs": [
    {
     "name": "stdout",
     "output_type": "stream",
     "text": [
      "Enter a word: rainn\n",
      "Did you mean rain or train ?\n",
      "Enter the word again please: dahjsdakd\n",
      "dahjsdakd is not available in the dictionary\n"
     ]
    }
   ],
   "source": [
    "def findMeaning(word):\n",
    "    word=word.lower()\n",
    "    if word not in dictionary:\n",
    "        guess = difflib.get_close_matches(word,dictionary.keys(),n=2,cutoff=0.6)\n",
    "        if(len(guess)>0):\n",
    "            print('Did you mean {} or {} ?'.format(guess[0],guess[1]))\n",
    "            word = input('Enter the word again please: ')\n",
    "            findMeaning(word)\n",
    "        else:\n",
    "            print('{} is not available in the dictionary'.format(word))\n",
    "            return\n",
    "    else:\n",
    "        print(dictionary[word])\n",
    "\n",
    "word = input('Enter a word: ')\n",
    "findMeaning(word)\n"
   ]
  },
  {
   "cell_type": "code",
   "execution_count": null,
   "metadata": {},
   "outputs": [],
   "source": []
  }
 ],
 "metadata": {
  "kernelspec": {
   "display_name": "Python 3",
   "language": "python",
   "name": "python3"
  },
  "language_info": {
   "codemirror_mode": {
    "name": "ipython",
    "version": 3
   },
   "file_extension": ".py",
   "mimetype": "text/x-python",
   "name": "python",
   "nbconvert_exporter": "python",
   "pygments_lexer": "ipython3",
   "version": "3.6.4"
  }
 },
 "nbformat": 4,
 "nbformat_minor": 2
}
