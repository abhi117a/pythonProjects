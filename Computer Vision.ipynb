{
 "cells": [
  {
   "cell_type": "code",
   "execution_count": 19,
   "metadata": {},
   "outputs": [],
   "source": [
    "import cv2\n",
    "import os\n",
    "import glob"
   ]
  },
  {
   "cell_type": "code",
   "execution_count": 16,
   "metadata": {},
   "outputs": [],
   "source": [
    "img = cv2.imread(\"sample-images/Lighthouse.jpg\",0)"
   ]
  },
  {
   "cell_type": "code",
   "execution_count": 17,
   "metadata": {},
   "outputs": [
    {
     "name": "stdout",
     "output_type": "stream",
     "text": [
      "[[141 140 140 ... 198 198 197]\n",
      " [143 141 139 ... 197 199 197]\n",
      " [140 141 141 ... 198 200 197]\n",
      " ...\n",
      " [ 12  13  12 ...  25  18  13]\n",
      " [ 14  16  17 ...  17  14  14]\n",
      " [  8  12  17 ...  11   9  16]]\n"
     ]
    }
   ],
   "source": [
    "print(img)"
   ]
  },
  {
   "cell_type": "code",
   "execution_count": 6,
   "metadata": {},
   "outputs": [
    {
     "name": "stdout",
     "output_type": "stream",
     "text": [
      "3\n",
      "(1485, 990, 3)\n"
     ]
    },
    {
     "data": {
      "text/plain": [
       "True"
      ]
     },
     "execution_count": 6,
     "metadata": {},
     "output_type": "execute_result"
    }
   ],
   "source": [
    "print(img.ndim)\n",
    "print(img.shape)\n",
    "img_resize = cv2.resize(img,(int(img.shape[1]/2),int(img.shape[0]/2)))\n",
    "cv2.imwrite(\"Galaxy resize.jpg\",img_resize)"
   ]
  },
  {
   "cell_type": "code",
   "execution_count": 4,
   "metadata": {},
   "outputs": [
    {
     "data": {
      "text/plain": [
       "-1"
      ]
     },
     "execution_count": 4,
     "metadata": {},
     "output_type": "execute_result"
    }
   ],
   "source": [
    "cv2.imshow(\"Galaxy\",img_resize)\n",
    "cv2.waitKey(2000)\n"
   ]
  },
  {
   "cell_type": "code",
   "execution_count": 5,
   "metadata": {},
   "outputs": [],
   "source": [
    "cv2.destroyWindow(\"Galaxy\")"
   ]
  },
  {
   "cell_type": "code",
   "execution_count": 18,
   "metadata": {},
   "outputs": [
    {
     "name": "stdout",
     "output_type": "stream",
     "text": [
      "galaxy.jpg\n",
      "[[28 14 15 ... 21 19 18]\n",
      " [14 21 13 ... 26 22 14]\n",
      " [16 21 14 ... 23 29 17]\n",
      " ...\n",
      " [ 0  9  2 ... 28 12 17]\n",
      " [ 0  2  0 ... 19  0  0]\n",
      " [ 1  0  1 ...  4  4 11]]\n",
      "Lighthouse.jpg\n",
      "None\n",
      "Moon sinking, sun rising.jpg\n",
      "None\n",
      "kangaroos-rain-australia_71370_990x742.jpg\n",
      "None\n"
     ]
    }
   ],
   "source": [
    "path = \"sample-images\"\n",
    "for filename in os.listdir(path):\n",
    "    print(filename)\n",
    "    img = cv2.imread(filename,0)\n",
    "    print(img)\n",
    "    #rImg = cv2.resize(img,(100,100))\n",
    "    #cv2.imwrite(filename,rImg)"
   ]
  },
  {
   "cell_type": "code",
   "execution_count": 25,
   "metadata": {},
   "outputs": [],
   "source": [
    "images= glob.glob(\"*.jpg\")"
   ]
  },
  {
   "cell_type": "code",
   "execution_count": 26,
   "metadata": {},
   "outputs": [],
   "source": [
    "for image in images:\n",
    "    img = cv2.imread(image,0)\n",
    "    imR = cv2.resize(img,(100,100))\n",
    "    cv2.imwrite(\"resize_\"+image,imR)"
   ]
  },
  {
   "cell_type": "code",
   "execution_count": null,
   "metadata": {},
   "outputs": [],
   "source": []
  }
 ],
 "metadata": {
  "kernelspec": {
   "display_name": "Python 3",
   "language": "python",
   "name": "python3"
  },
  "language_info": {
   "codemirror_mode": {
    "name": "ipython",
    "version": 3
   },
   "file_extension": ".py",
   "mimetype": "text/x-python",
   "name": "python",
   "nbconvert_exporter": "python",
   "pygments_lexer": "ipython3",
   "version": "3.6.4"
  }
 },
 "nbformat": 4,
 "nbformat_minor": 2
}
